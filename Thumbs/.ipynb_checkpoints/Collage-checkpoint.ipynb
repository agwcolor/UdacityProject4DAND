{
 "cells": [
  {
   "cell_type": "code",
   "execution_count": 2,
   "metadata": {},
   "outputs": [],
   "source": [
    "def create_collage(input_dir, collage_size):\n",
    "    r, c = collage_size\n",
    "    images_outers= []\n",
    "    for i in range(r):\n",
    "        images = []\n",
    "        for image_name in sample(os.listdir(input_dir), c):\n",
    "            print(image_name)\n",
    "            image = cv2.imread(os.path.join(input_dir, image_name))\n",
    "            images.append(image)\n",
    "        image_outer = np.hstack(images)\n",
    "        images_outers.append(image_outer)\n",
    "    return(np.vstack(images_outers))"
   ]
  },
  {
   "cell_type": "code",
   "execution_count": null,
   "metadata": {},
   "outputs": [],
   "source": []
  },
  {
   "cell_type": "code",
   "execution_count": null,
   "metadata": {},
   "outputs": [],
   "source": []
  },
  {
   "cell_type": "code",
   "execution_count": null,
   "metadata": {},
   "outputs": [],
   "source": []
  }
 ],
 "metadata": {
  "kernelspec": {
   "display_name": "Python [conda env:data_process] *",
   "language": "python",
   "name": "conda-env-data_process-py"
  },
  "language_info": {
   "codemirror_mode": {
    "name": "ipython",
    "version": 3
   },
   "file_extension": ".py",
   "mimetype": "text/x-python",
   "name": "python",
   "nbconvert_exporter": "python",
   "pygments_lexer": "ipython3",
   "version": "3.7.7"
  }
 },
 "nbformat": 4,
 "nbformat_minor": 4
}
